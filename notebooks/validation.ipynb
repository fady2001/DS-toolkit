{
 "cells": [
  {
   "cell_type": "code",
   "execution_count": 4,
   "id": "b906a87f",
   "metadata": {},
   "outputs": [],
   "source": [
    "import pandas as pd"
   ]
  },
  {
   "cell_type": "markdown",
   "id": "c57fb4f5",
   "metadata": {},
   "source": [
    "### 1. Data Loading"
   ]
  },
  {
   "cell_type": "code",
   "execution_count": 34,
   "id": "f9a36979",
   "metadata": {},
   "outputs": [],
   "source": [
    "train_df = pd.read_csv('../data/raw/train.csv',parse_dates=['date'])\n",
    "holiday_df = pd.read_csv('../data/raw/holidays_events.csv',parse_dates=['date'])\n",
    "oil_df = pd.read_csv('../data/raw/oil.csv',parse_dates=['date'])\n",
    "stores_df = pd.read_csv('../data/raw/stores.csv')\n",
    "transactions_df = pd.read_csv('../data/raw/transactions.csv',parse_dates=['date'])\n",
    "test_df = pd.read_csv('../data/raw/test.csv',parse_dates=['date'])"
   ]
  },
  {
   "cell_type": "code",
   "execution_count": 6,
   "id": "baf26fee",
   "metadata": {},
   "outputs": [
    {
     "name": "stdout",
     "output_type": "stream",
     "text": [
      "=== DATASET OVERVIEW ===\n",
      "Train dataset shape: (3000888, 6)\n",
      "Holiday dataset shape: (350, 6)\n",
      "Oil dataset shape: (1218, 2)\n",
      "Stores dataset shape: (54, 5)\n",
      "Transactions dataset shape: (83488, 3)\n"
     ]
    }
   ],
   "source": [
    "print(\"=== DATASET OVERVIEW ===\")\n",
    "print(f\"Train dataset shape: {train_df.shape}\")\n",
    "print(f\"Holiday dataset shape: {holiday_df.shape}\")\n",
    "print(f\"Oil dataset shape: {oil_df.shape}\")\n",
    "print(f\"Stores dataset shape: {stores_df.shape}\")\n",
    "print(f\"Transactions dataset shape: {transactions_df.shape}\")"
   ]
  },
  {
   "cell_type": "markdown",
   "id": "571b5252",
   "metadata": {},
   "source": [
    "#### 1.1 train"
   ]
  },
  {
   "cell_type": "code",
   "execution_count": 7,
   "id": "8564b9d7",
   "metadata": {},
   "outputs": [
    {
     "name": "stdout",
     "output_type": "stream",
     "text": [
      "<class 'pandas.core.frame.DataFrame'>\n",
      "RangeIndex: 3000888 entries, 0 to 3000887\n",
      "Data columns (total 6 columns):\n",
      " #   Column       Dtype         \n",
      "---  ------       -----         \n",
      " 0   id           int64         \n",
      " 1   date         datetime64[ns]\n",
      " 2   store_nbr    int64         \n",
      " 3   family       object        \n",
      " 4   sales        float64       \n",
      " 5   onpromotion  int64         \n",
      "dtypes: datetime64[ns](1), float64(1), int64(3), object(1)\n",
      "memory usage: 137.4+ MB\n"
     ]
    }
   ],
   "source": [
    "# check for data types\n",
    "train_df.info()"
   ]
  },
  {
   "cell_type": "code",
   "execution_count": 8,
   "id": "9b647b89",
   "metadata": {},
   "outputs": [
    {
     "data": {
      "text/html": [
       "<div>\n",
       "<style scoped>\n",
       "    .dataframe tbody tr th:only-of-type {\n",
       "        vertical-align: middle;\n",
       "    }\n",
       "\n",
       "    .dataframe tbody tr th {\n",
       "        vertical-align: top;\n",
       "    }\n",
       "\n",
       "    .dataframe thead th {\n",
       "        text-align: right;\n",
       "    }\n",
       "</style>\n",
       "<table border=\"1\" class=\"dataframe\">\n",
       "  <thead>\n",
       "    <tr style=\"text-align: right;\">\n",
       "      <th></th>\n",
       "      <th>id</th>\n",
       "      <th>date</th>\n",
       "      <th>store_nbr</th>\n",
       "      <th>sales</th>\n",
       "      <th>onpromotion</th>\n",
       "    </tr>\n",
       "  </thead>\n",
       "  <tbody>\n",
       "    <tr>\n",
       "      <th>count</th>\n",
       "      <td>3.000888e+06</td>\n",
       "      <td>3000888</td>\n",
       "      <td>3.000888e+06</td>\n",
       "      <td>3.000888e+06</td>\n",
       "      <td>3.000888e+06</td>\n",
       "    </tr>\n",
       "    <tr>\n",
       "      <th>mean</th>\n",
       "      <td>1.500444e+06</td>\n",
       "      <td>2015-04-24 08:27:04.703088384</td>\n",
       "      <td>2.750000e+01</td>\n",
       "      <td>3.577757e+02</td>\n",
       "      <td>2.602770e+00</td>\n",
       "    </tr>\n",
       "    <tr>\n",
       "      <th>min</th>\n",
       "      <td>0.000000e+00</td>\n",
       "      <td>2013-01-01 00:00:00</td>\n",
       "      <td>1.000000e+00</td>\n",
       "      <td>0.000000e+00</td>\n",
       "      <td>0.000000e+00</td>\n",
       "    </tr>\n",
       "    <tr>\n",
       "      <th>25%</th>\n",
       "      <td>7.502218e+05</td>\n",
       "      <td>2014-02-26 18:00:00</td>\n",
       "      <td>1.400000e+01</td>\n",
       "      <td>0.000000e+00</td>\n",
       "      <td>0.000000e+00</td>\n",
       "    </tr>\n",
       "    <tr>\n",
       "      <th>50%</th>\n",
       "      <td>1.500444e+06</td>\n",
       "      <td>2015-04-24 12:00:00</td>\n",
       "      <td>2.750000e+01</td>\n",
       "      <td>1.100000e+01</td>\n",
       "      <td>0.000000e+00</td>\n",
       "    </tr>\n",
       "    <tr>\n",
       "      <th>75%</th>\n",
       "      <td>2.250665e+06</td>\n",
       "      <td>2016-06-19 06:00:00</td>\n",
       "      <td>4.100000e+01</td>\n",
       "      <td>1.958473e+02</td>\n",
       "      <td>0.000000e+00</td>\n",
       "    </tr>\n",
       "    <tr>\n",
       "      <th>max</th>\n",
       "      <td>3.000887e+06</td>\n",
       "      <td>2017-08-15 00:00:00</td>\n",
       "      <td>5.400000e+01</td>\n",
       "      <td>1.247170e+05</td>\n",
       "      <td>7.410000e+02</td>\n",
       "    </tr>\n",
       "    <tr>\n",
       "      <th>std</th>\n",
       "      <td>8.662819e+05</td>\n",
       "      <td>NaN</td>\n",
       "      <td>1.558579e+01</td>\n",
       "      <td>1.101998e+03</td>\n",
       "      <td>1.221888e+01</td>\n",
       "    </tr>\n",
       "  </tbody>\n",
       "</table>\n",
       "</div>"
      ],
      "text/plain": [
       "                 id                           date     store_nbr  \\\n",
       "count  3.000888e+06                        3000888  3.000888e+06   \n",
       "mean   1.500444e+06  2015-04-24 08:27:04.703088384  2.750000e+01   \n",
       "min    0.000000e+00            2013-01-01 00:00:00  1.000000e+00   \n",
       "25%    7.502218e+05            2014-02-26 18:00:00  1.400000e+01   \n",
       "50%    1.500444e+06            2015-04-24 12:00:00  2.750000e+01   \n",
       "75%    2.250665e+06            2016-06-19 06:00:00  4.100000e+01   \n",
       "max    3.000887e+06            2017-08-15 00:00:00  5.400000e+01   \n",
       "std    8.662819e+05                            NaN  1.558579e+01   \n",
       "\n",
       "              sales   onpromotion  \n",
       "count  3.000888e+06  3.000888e+06  \n",
       "mean   3.577757e+02  2.602770e+00  \n",
       "min    0.000000e+00  0.000000e+00  \n",
       "25%    0.000000e+00  0.000000e+00  \n",
       "50%    1.100000e+01  0.000000e+00  \n",
       "75%    1.958473e+02  0.000000e+00  \n",
       "max    1.247170e+05  7.410000e+02  \n",
       "std    1.101998e+03  1.221888e+01  "
      ]
     },
     "execution_count": 8,
     "metadata": {},
     "output_type": "execute_result"
    }
   ],
   "source": [
    "# TODO: sales range is very large, check for outliers\n",
    "train_df.describe()"
   ]
  },
  {
   "cell_type": "code",
   "execution_count": 9,
   "id": "2fd68f0a",
   "metadata": {},
   "outputs": [
    {
     "name": "stdout",
     "output_type": "stream",
     "text": [
      "\n",
      "=== TOP 5 MAX SALES ===\n",
      "              id       date  store_nbr     family       sales  onpromotion\n",
      "2163723  2163723 2016-05-02          2  GROCERY I  124717.000           59\n",
      "2445984  2445984 2016-10-07         39      MEATS   89576.360            0\n",
      "2144154  2144154 2016-04-21         20  GROCERY I   87438.516           53\n",
      "2139699  2139699 2016-04-18         45  GROCERY I   76090.000           38\n",
      "2153031  2153031 2016-04-26          2  GROCERY I   63434.000           30\n",
      "\n",
      "=== TOP 5 MIN SALES ===\n",
      "   id       date  store_nbr      family  sales  onpromotion\n",
      "0   0 2013-01-01          1  AUTOMOTIVE    0.0            0\n",
      "1   1 2013-01-01          1   BABY CARE    0.0            0\n",
      "2   2 2013-01-01          1      BEAUTY    0.0            0\n",
      "3   3 2013-01-01          1   BEVERAGES    0.0            0\n",
      "4   4 2013-01-01          1       BOOKS    0.0            0\n"
     ]
    }
   ],
   "source": [
    "# get top 5 rows of max sales and top 5 rows of min sales\n",
    "print(\"\\n=== TOP 5 MAX SALES ===\")\n",
    "print(train_df.nlargest(5, 'sales'))\n",
    "print(\"\\n=== TOP 5 MIN SALES ===\")\n",
    "print(train_df.nsmallest(5, 'sales'))"
   ]
  },
  {
   "cell_type": "code",
   "execution_count": 10,
   "id": "033d0ef1",
   "metadata": {},
   "outputs": [
    {
     "data": {
      "text/plain": [
       "np.int64(0)"
      ]
     },
     "execution_count": 10,
     "metadata": {},
     "output_type": "execute_result"
    }
   ],
   "source": [
    "# check for duplicates\n",
    "train_df.duplicated().sum()"
   ]
  },
  {
   "cell_type": "code",
   "execution_count": 11,
   "id": "5a40839f",
   "metadata": {},
   "outputs": [
    {
     "name": "stdout",
     "output_type": "stream",
     "text": [
      "Missing values in train_df:\n",
      " id             0\n",
      "date           0\n",
      "store_nbr      0\n",
      "family         0\n",
      "sales          0\n",
      "onpromotion    0\n",
      "dtype: int64\n"
     ]
    }
   ],
   "source": [
    "# check for missing values\n",
    "print(\"Missing values in train_df:\\n\", train_df.isnull().sum())"
   ]
  },
  {
   "cell_type": "code",
   "execution_count": 12,
   "id": "fa835b48",
   "metadata": {},
   "outputs": [
    {
     "name": "stdout",
     "output_type": "stream",
     "text": [
      "Unique values in train_df:\n",
      " id             3000888\n",
      "date              1684\n",
      "store_nbr           54\n",
      "family              33\n",
      "sales           379610\n",
      "onpromotion        362\n",
      "dtype: int64\n"
     ]
    }
   ],
   "source": [
    "# check for number of unique values\n",
    "print(\"Unique values in train_df:\\n\", train_df.nunique())"
   ]
  },
  {
   "cell_type": "code",
   "execution_count": 13,
   "id": "4e79431f",
   "metadata": {},
   "outputs": [
    {
     "name": "stdout",
     "output_type": "stream",
     "text": [
      "Negative values in 'sales': 0\n"
     ]
    }
   ],
   "source": [
    "# check for negative values in 'sales'\n",
    "print(\"Negative values in 'sales':\", (train_df['sales'] < 0).sum())"
   ]
  },
  {
   "cell_type": "code",
   "execution_count": 14,
   "id": "c6c655bb",
   "metadata": {},
   "outputs": [
    {
     "name": "stdout",
     "output_type": "stream",
     "text": [
      "Date range: 2013-01-01 00:00:00 to 2017-08-15 00:00:00\n",
      "Total days: 1687\n",
      "Years covered: [np.int32(2013), np.int32(2014), np.int32(2015), np.int32(2016), np.int32(2017)]\n"
     ]
    }
   ],
   "source": [
    "print(f\"Date range: {train_df['date'].min()} to {train_df['date'].max()}\")\n",
    "print(f\"Total days: {(train_df['date'].max() - train_df['date'].min()).days}\")\n",
    "print(f\"Years covered: {sorted(train_df['date'].dt.year.unique())}\")"
   ]
  },
  {
   "cell_type": "code",
   "execution_count": 30,
   "id": "b8a06b4a",
   "metadata": {},
   "outputs": [
    {
     "name": "stdout",
     "output_type": "stream",
     "text": [
      "Missing dates in train dataset: DatetimeIndex(['2013-12-25', '2014-12-25', '2015-12-25', '2016-12-25'], dtype='datetime64[ns]', freq=None)\n"
     ]
    }
   ],
   "source": [
    "# check all dates are present\n",
    "# TODO: handle missing dates\n",
    "all_dates = pd.date_range(start=train_df['date'].min(), end=train_df['date'].max())\n",
    "missing_dates = all_dates.difference(train_df['date'])\n",
    "if missing_dates.empty:\n",
    "    print(\"All dates are present in the train dataset.\")\n",
    "else:\n",
    "    print(f\"Missing dates in train dataset: {missing_dates}\")"
   ]
  },
  {
   "cell_type": "markdown",
   "id": "8acee106",
   "metadata": {},
   "source": [
    "#### 1.2 holiday"
   ]
  },
  {
   "cell_type": "code",
   "execution_count": 15,
   "id": "ca011792",
   "metadata": {},
   "outputs": [
    {
     "name": "stdout",
     "output_type": "stream",
     "text": [
      "<class 'pandas.core.frame.DataFrame'>\n",
      "RangeIndex: 350 entries, 0 to 349\n",
      "Data columns (total 6 columns):\n",
      " #   Column       Non-Null Count  Dtype         \n",
      "---  ------       --------------  -----         \n",
      " 0   date         350 non-null    datetime64[ns]\n",
      " 1   type         350 non-null    object        \n",
      " 2   locale       350 non-null    object        \n",
      " 3   locale_name  350 non-null    object        \n",
      " 4   description  350 non-null    object        \n",
      " 5   transferred  350 non-null    bool          \n",
      "dtypes: bool(1), datetime64[ns](1), object(4)\n",
      "memory usage: 14.1+ KB\n"
     ]
    }
   ],
   "source": [
    "# check for data types\n",
    "holiday_df.info()"
   ]
  },
  {
   "cell_type": "code",
   "execution_count": 16,
   "id": "0cebe87b",
   "metadata": {},
   "outputs": [
    {
     "data": {
      "text/html": [
       "<div>\n",
       "<style scoped>\n",
       "    .dataframe tbody tr th:only-of-type {\n",
       "        vertical-align: middle;\n",
       "    }\n",
       "\n",
       "    .dataframe tbody tr th {\n",
       "        vertical-align: top;\n",
       "    }\n",
       "\n",
       "    .dataframe thead th {\n",
       "        text-align: right;\n",
       "    }\n",
       "</style>\n",
       "<table border=\"1\" class=\"dataframe\">\n",
       "  <thead>\n",
       "    <tr style=\"text-align: right;\">\n",
       "      <th></th>\n",
       "      <th>date</th>\n",
       "    </tr>\n",
       "  </thead>\n",
       "  <tbody>\n",
       "    <tr>\n",
       "      <th>count</th>\n",
       "      <td>350</td>\n",
       "    </tr>\n",
       "    <tr>\n",
       "      <th>mean</th>\n",
       "      <td>2015-04-24 00:45:15.428571392</td>\n",
       "    </tr>\n",
       "    <tr>\n",
       "      <th>min</th>\n",
       "      <td>2012-03-02 00:00:00</td>\n",
       "    </tr>\n",
       "    <tr>\n",
       "      <th>25%</th>\n",
       "      <td>2013-12-23 06:00:00</td>\n",
       "    </tr>\n",
       "    <tr>\n",
       "      <th>50%</th>\n",
       "      <td>2015-06-08 00:00:00</td>\n",
       "    </tr>\n",
       "    <tr>\n",
       "      <th>75%</th>\n",
       "      <td>2016-07-03 00:00:00</td>\n",
       "    </tr>\n",
       "    <tr>\n",
       "      <th>max</th>\n",
       "      <td>2017-12-26 00:00:00</td>\n",
       "    </tr>\n",
       "  </tbody>\n",
       "</table>\n",
       "</div>"
      ],
      "text/plain": [
       "                                date\n",
       "count                            350\n",
       "mean   2015-04-24 00:45:15.428571392\n",
       "min              2012-03-02 00:00:00\n",
       "25%              2013-12-23 06:00:00\n",
       "50%              2015-06-08 00:00:00\n",
       "75%              2016-07-03 00:00:00\n",
       "max              2017-12-26 00:00:00"
      ]
     },
     "execution_count": 16,
     "metadata": {},
     "output_type": "execute_result"
    }
   ],
   "source": [
    "holiday_df.describe()"
   ]
  },
  {
   "cell_type": "code",
   "execution_count": 17,
   "id": "f9fb0660",
   "metadata": {},
   "outputs": [
    {
     "data": {
      "text/plain": [
       "np.int64(0)"
      ]
     },
     "execution_count": 17,
     "metadata": {},
     "output_type": "execute_result"
    }
   ],
   "source": [
    "# check for duplicates\n",
    "holiday_df.duplicated().sum()"
   ]
  },
  {
   "cell_type": "code",
   "execution_count": 18,
   "id": "c251248a",
   "metadata": {},
   "outputs": [
    {
     "name": "stdout",
     "output_type": "stream",
     "text": [
      "Missing values in holiday_df:\n",
      " date           0\n",
      "type           0\n",
      "locale         0\n",
      "locale_name    0\n",
      "description    0\n",
      "transferred    0\n",
      "dtype: int64\n"
     ]
    }
   ],
   "source": [
    "# check for missing values\n",
    "print(\"Missing values in holiday_df:\\n\", holiday_df.isnull().sum())"
   ]
  },
  {
   "cell_type": "code",
   "execution_count": 19,
   "id": "700b68c5",
   "metadata": {},
   "outputs": [
    {
     "name": "stdout",
     "output_type": "stream",
     "text": [
      "Unique values in holiday_df:\n",
      " date           312\n",
      "type             6\n",
      "locale           3\n",
      "locale_name     24\n",
      "description    103\n",
      "transferred      2\n",
      "dtype: int64\n"
     ]
    }
   ],
   "source": [
    "# check for number of unique values\n",
    "print(\"Unique values in holiday_df:\\n\", holiday_df.nunique())"
   ]
  },
  {
   "cell_type": "markdown",
   "id": "b6f24a0d",
   "metadata": {},
   "source": [
    "#### 1.3 oil"
   ]
  },
  {
   "cell_type": "code",
   "execution_count": 20,
   "id": "2603b258",
   "metadata": {},
   "outputs": [
    {
     "name": "stdout",
     "output_type": "stream",
     "text": [
      "<class 'pandas.core.frame.DataFrame'>\n",
      "RangeIndex: 1218 entries, 0 to 1217\n",
      "Data columns (total 2 columns):\n",
      " #   Column      Non-Null Count  Dtype         \n",
      "---  ------      --------------  -----         \n",
      " 0   date        1218 non-null   datetime64[ns]\n",
      " 1   dcoilwtico  1175 non-null   float64       \n",
      "dtypes: datetime64[ns](1), float64(1)\n",
      "memory usage: 19.2 KB\n"
     ]
    }
   ],
   "source": [
    "# check dtypes\n",
    "oil_df.info()"
   ]
  },
  {
   "cell_type": "code",
   "execution_count": 21,
   "id": "178af82c",
   "metadata": {},
   "outputs": [
    {
     "data": {
      "text/html": [
       "<div>\n",
       "<style scoped>\n",
       "    .dataframe tbody tr th:only-of-type {\n",
       "        vertical-align: middle;\n",
       "    }\n",
       "\n",
       "    .dataframe tbody tr th {\n",
       "        vertical-align: top;\n",
       "    }\n",
       "\n",
       "    .dataframe thead th {\n",
       "        text-align: right;\n",
       "    }\n",
       "</style>\n",
       "<table border=\"1\" class=\"dataframe\">\n",
       "  <thead>\n",
       "    <tr style=\"text-align: right;\">\n",
       "      <th></th>\n",
       "      <th>date</th>\n",
       "      <th>dcoilwtico</th>\n",
       "    </tr>\n",
       "  </thead>\n",
       "  <tbody>\n",
       "    <tr>\n",
       "      <th>count</th>\n",
       "      <td>1218</td>\n",
       "      <td>1175.000000</td>\n",
       "    </tr>\n",
       "    <tr>\n",
       "      <th>mean</th>\n",
       "      <td>2015-05-02 12:00:00</td>\n",
       "      <td>67.714366</td>\n",
       "    </tr>\n",
       "    <tr>\n",
       "      <th>min</th>\n",
       "      <td>2013-01-01 00:00:00</td>\n",
       "      <td>26.190000</td>\n",
       "    </tr>\n",
       "    <tr>\n",
       "      <th>25%</th>\n",
       "      <td>2014-03-03 06:00:00</td>\n",
       "      <td>46.405000</td>\n",
       "    </tr>\n",
       "    <tr>\n",
       "      <th>50%</th>\n",
       "      <td>2015-05-02 12:00:00</td>\n",
       "      <td>53.190000</td>\n",
       "    </tr>\n",
       "    <tr>\n",
       "      <th>75%</th>\n",
       "      <td>2016-06-30 18:00:00</td>\n",
       "      <td>95.660000</td>\n",
       "    </tr>\n",
       "    <tr>\n",
       "      <th>max</th>\n",
       "      <td>2017-08-31 00:00:00</td>\n",
       "      <td>110.620000</td>\n",
       "    </tr>\n",
       "    <tr>\n",
       "      <th>std</th>\n",
       "      <td>NaN</td>\n",
       "      <td>25.630476</td>\n",
       "    </tr>\n",
       "  </tbody>\n",
       "</table>\n",
       "</div>"
      ],
      "text/plain": [
       "                      date   dcoilwtico\n",
       "count                 1218  1175.000000\n",
       "mean   2015-05-02 12:00:00    67.714366\n",
       "min    2013-01-01 00:00:00    26.190000\n",
       "25%    2014-03-03 06:00:00    46.405000\n",
       "50%    2015-05-02 12:00:00    53.190000\n",
       "75%    2016-06-30 18:00:00    95.660000\n",
       "max    2017-08-31 00:00:00   110.620000\n",
       "std                    NaN    25.630476"
      ]
     },
     "execution_count": 21,
     "metadata": {},
     "output_type": "execute_result"
    }
   ],
   "source": [
    "oil_df.describe()"
   ]
  },
  {
   "cell_type": "code",
   "execution_count": 22,
   "id": "aa975f7c",
   "metadata": {},
   "outputs": [
    {
     "data": {
      "text/plain": [
       "np.int64(0)"
      ]
     },
     "execution_count": 22,
     "metadata": {},
     "output_type": "execute_result"
    }
   ],
   "source": [
    "# check for duplicates\n",
    "oil_df.duplicated().sum()"
   ]
  },
  {
   "cell_type": "code",
   "execution_count": 23,
   "id": "0faa0ff1",
   "metadata": {},
   "outputs": [
    {
     "name": "stdout",
     "output_type": "stream",
     "text": [
      "Missing values in oil_df:\n",
      " date           0\n",
      "dcoilwtico    43\n",
      "dtype: int64\n"
     ]
    }
   ],
   "source": [
    "# check for missing values\n",
    "# TODO: handle missing values in oil_df\n",
    "print(\"Missing values in oil_df:\\n\", oil_df.isnull().sum())"
   ]
  },
  {
   "cell_type": "code",
   "execution_count": 24,
   "id": "bbfae087",
   "metadata": {},
   "outputs": [
    {
     "name": "stdout",
     "output_type": "stream",
     "text": [
      "Unique values in oil_df:\n",
      " date          1218\n",
      "dcoilwtico     998\n",
      "dtype: int64\n"
     ]
    }
   ],
   "source": [
    "# check for number of unique values\n",
    "print(\"Unique values in oil_df:\\n\", oil_df.nunique())"
   ]
  },
  {
   "cell_type": "code",
   "execution_count": 32,
   "id": "7923c56c",
   "metadata": {},
   "outputs": [
    {
     "name": "stdout",
     "output_type": "stream",
     "text": [
      "Missing dates in train dataset: DatetimeIndex(['2013-01-05', '2013-01-06', '2013-01-12', '2013-01-13',\n",
      "               '2013-01-19', '2013-01-20', '2013-01-26', '2013-01-27',\n",
      "               '2013-02-02', '2013-02-03',\n",
      "               ...\n",
      "               '2017-07-29', '2017-07-30', '2017-08-05', '2017-08-06',\n",
      "               '2017-08-12', '2017-08-13', '2017-08-19', '2017-08-20',\n",
      "               '2017-08-26', '2017-08-27'],\n",
      "              dtype='datetime64[ns]', length=486, freq=None)\n"
     ]
    }
   ],
   "source": [
    "# check all dates are present\n",
    "# TODO: handle missing dates\n",
    "all_dates = pd.date_range(start=oil_df['date'].min(), end=oil_df['date'].max())\n",
    "missing_dates = all_dates.difference(oil_df['date'])\n",
    "if missing_dates.empty:\n",
    "    print(\"All dates are present in the train dataset.\")\n",
    "else:\n",
    "    print(f\"Missing dates in train dataset: {missing_dates}\")"
   ]
  },
  {
   "cell_type": "markdown",
   "id": "7550faea",
   "metadata": {},
   "source": [
    "#### 1.4 stores"
   ]
  },
  {
   "cell_type": "code",
   "execution_count": 25,
   "id": "dbc79e94",
   "metadata": {},
   "outputs": [
    {
     "name": "stdout",
     "output_type": "stream",
     "text": [
      "<class 'pandas.core.frame.DataFrame'>\n",
      "RangeIndex: 54 entries, 0 to 53\n",
      "Data columns (total 5 columns):\n",
      " #   Column     Non-Null Count  Dtype \n",
      "---  ------     --------------  ----- \n",
      " 0   store_nbr  54 non-null     int64 \n",
      " 1   city       54 non-null     object\n",
      " 2   state      54 non-null     object\n",
      " 3   type       54 non-null     object\n",
      " 4   cluster    54 non-null     int64 \n",
      "dtypes: int64(2), object(3)\n",
      "memory usage: 2.2+ KB\n"
     ]
    }
   ],
   "source": [
    "# check for data types\n",
    "stores_df.info()"
   ]
  },
  {
   "cell_type": "code",
   "execution_count": 26,
   "id": "d424d291",
   "metadata": {},
   "outputs": [
    {
     "data": {
      "text/html": [
       "<div>\n",
       "<style scoped>\n",
       "    .dataframe tbody tr th:only-of-type {\n",
       "        vertical-align: middle;\n",
       "    }\n",
       "\n",
       "    .dataframe tbody tr th {\n",
       "        vertical-align: top;\n",
       "    }\n",
       "\n",
       "    .dataframe thead th {\n",
       "        text-align: right;\n",
       "    }\n",
       "</style>\n",
       "<table border=\"1\" class=\"dataframe\">\n",
       "  <thead>\n",
       "    <tr style=\"text-align: right;\">\n",
       "      <th></th>\n",
       "      <th>store_nbr</th>\n",
       "      <th>cluster</th>\n",
       "    </tr>\n",
       "  </thead>\n",
       "  <tbody>\n",
       "    <tr>\n",
       "      <th>count</th>\n",
       "      <td>54.000000</td>\n",
       "      <td>54.000000</td>\n",
       "    </tr>\n",
       "    <tr>\n",
       "      <th>mean</th>\n",
       "      <td>27.500000</td>\n",
       "      <td>8.481481</td>\n",
       "    </tr>\n",
       "    <tr>\n",
       "      <th>std</th>\n",
       "      <td>15.732133</td>\n",
       "      <td>4.693395</td>\n",
       "    </tr>\n",
       "    <tr>\n",
       "      <th>min</th>\n",
       "      <td>1.000000</td>\n",
       "      <td>1.000000</td>\n",
       "    </tr>\n",
       "    <tr>\n",
       "      <th>25%</th>\n",
       "      <td>14.250000</td>\n",
       "      <td>4.000000</td>\n",
       "    </tr>\n",
       "    <tr>\n",
       "      <th>50%</th>\n",
       "      <td>27.500000</td>\n",
       "      <td>8.500000</td>\n",
       "    </tr>\n",
       "    <tr>\n",
       "      <th>75%</th>\n",
       "      <td>40.750000</td>\n",
       "      <td>13.000000</td>\n",
       "    </tr>\n",
       "    <tr>\n",
       "      <th>max</th>\n",
       "      <td>54.000000</td>\n",
       "      <td>17.000000</td>\n",
       "    </tr>\n",
       "  </tbody>\n",
       "</table>\n",
       "</div>"
      ],
      "text/plain": [
       "       store_nbr    cluster\n",
       "count  54.000000  54.000000\n",
       "mean   27.500000   8.481481\n",
       "std    15.732133   4.693395\n",
       "min     1.000000   1.000000\n",
       "25%    14.250000   4.000000\n",
       "50%    27.500000   8.500000\n",
       "75%    40.750000  13.000000\n",
       "max    54.000000  17.000000"
      ]
     },
     "execution_count": 26,
     "metadata": {},
     "output_type": "execute_result"
    }
   ],
   "source": [
    "stores_df.describe()"
   ]
  },
  {
   "cell_type": "code",
   "execution_count": 27,
   "id": "8f2bf15c",
   "metadata": {},
   "outputs": [
    {
     "data": {
      "text/plain": [
       "np.int64(0)"
      ]
     },
     "execution_count": 27,
     "metadata": {},
     "output_type": "execute_result"
    }
   ],
   "source": [
    "# check for duplicates\n",
    "stores_df.duplicated().sum()"
   ]
  },
  {
   "cell_type": "code",
   "execution_count": 28,
   "id": "3d5a7b5b",
   "metadata": {},
   "outputs": [
    {
     "name": "stdout",
     "output_type": "stream",
     "text": [
      "Missing values in stores_df:\n",
      " store_nbr    0\n",
      "city         0\n",
      "state        0\n",
      "type         0\n",
      "cluster      0\n",
      "dtype: int64\n"
     ]
    }
   ],
   "source": [
    "# check for missing values\n",
    "print(\"Missing values in stores_df:\\n\", stores_df.isnull().sum())"
   ]
  },
  {
   "cell_type": "code",
   "execution_count": 29,
   "id": "8e7138bb",
   "metadata": {},
   "outputs": [
    {
     "name": "stdout",
     "output_type": "stream",
     "text": [
      "Unique values in stores_df:\n",
      " store_nbr    54\n",
      "city         22\n",
      "state        16\n",
      "type          5\n",
      "cluster      17\n",
      "dtype: int64\n"
     ]
    }
   ],
   "source": [
    "# check for number of unique values\n",
    "print(\"Unique values in stores_df:\\n\", stores_df.nunique())"
   ]
  },
  {
   "cell_type": "markdown",
   "id": "d226ff26",
   "metadata": {},
   "source": [
    "#### 1.5 test"
   ]
  },
  {
   "cell_type": "code",
   "execution_count": 35,
   "id": "fd4c064e",
   "metadata": {},
   "outputs": [
    {
     "name": "stdout",
     "output_type": "stream",
     "text": [
      "<class 'pandas.core.frame.DataFrame'>\n",
      "RangeIndex: 28512 entries, 0 to 28511\n",
      "Data columns (total 5 columns):\n",
      " #   Column       Non-Null Count  Dtype         \n",
      "---  ------       --------------  -----         \n",
      " 0   id           28512 non-null  int64         \n",
      " 1   date         28512 non-null  datetime64[ns]\n",
      " 2   store_nbr    28512 non-null  int64         \n",
      " 3   family       28512 non-null  object        \n",
      " 4   onpromotion  28512 non-null  int64         \n",
      "dtypes: datetime64[ns](1), int64(3), object(1)\n",
      "memory usage: 1.1+ MB\n"
     ]
    }
   ],
   "source": [
    "# check for data types\n",
    "test_df.info()"
   ]
  },
  {
   "cell_type": "code",
   "execution_count": 36,
   "id": "93341491",
   "metadata": {},
   "outputs": [
    {
     "data": {
      "text/html": [
       "<div>\n",
       "<style scoped>\n",
       "    .dataframe tbody tr th:only-of-type {\n",
       "        vertical-align: middle;\n",
       "    }\n",
       "\n",
       "    .dataframe tbody tr th {\n",
       "        vertical-align: top;\n",
       "    }\n",
       "\n",
       "    .dataframe thead th {\n",
       "        text-align: right;\n",
       "    }\n",
       "</style>\n",
       "<table border=\"1\" class=\"dataframe\">\n",
       "  <thead>\n",
       "    <tr style=\"text-align: right;\">\n",
       "      <th></th>\n",
       "      <th>id</th>\n",
       "      <th>date</th>\n",
       "      <th>store_nbr</th>\n",
       "      <th>onpromotion</th>\n",
       "    </tr>\n",
       "  </thead>\n",
       "  <tbody>\n",
       "    <tr>\n",
       "      <th>count</th>\n",
       "      <td>2.851200e+04</td>\n",
       "      <td>28512</td>\n",
       "      <td>28512.000000</td>\n",
       "      <td>28512.000000</td>\n",
       "    </tr>\n",
       "    <tr>\n",
       "      <th>mean</th>\n",
       "      <td>3.015144e+06</td>\n",
       "      <td>2017-08-23 12:00:00</td>\n",
       "      <td>27.500000</td>\n",
       "      <td>6.965383</td>\n",
       "    </tr>\n",
       "    <tr>\n",
       "      <th>min</th>\n",
       "      <td>3.000888e+06</td>\n",
       "      <td>2017-08-16 00:00:00</td>\n",
       "      <td>1.000000</td>\n",
       "      <td>0.000000</td>\n",
       "    </tr>\n",
       "    <tr>\n",
       "      <th>25%</th>\n",
       "      <td>3.008016e+06</td>\n",
       "      <td>2017-08-19 18:00:00</td>\n",
       "      <td>14.000000</td>\n",
       "      <td>0.000000</td>\n",
       "    </tr>\n",
       "    <tr>\n",
       "      <th>50%</th>\n",
       "      <td>3.015144e+06</td>\n",
       "      <td>2017-08-23 12:00:00</td>\n",
       "      <td>27.500000</td>\n",
       "      <td>0.000000</td>\n",
       "    </tr>\n",
       "    <tr>\n",
       "      <th>75%</th>\n",
       "      <td>3.022271e+06</td>\n",
       "      <td>2017-08-27 06:00:00</td>\n",
       "      <td>41.000000</td>\n",
       "      <td>6.000000</td>\n",
       "    </tr>\n",
       "    <tr>\n",
       "      <th>max</th>\n",
       "      <td>3.029399e+06</td>\n",
       "      <td>2017-08-31 00:00:00</td>\n",
       "      <td>54.000000</td>\n",
       "      <td>646.000000</td>\n",
       "    </tr>\n",
       "    <tr>\n",
       "      <th>std</th>\n",
       "      <td>8.230850e+03</td>\n",
       "      <td>NaN</td>\n",
       "      <td>15.586057</td>\n",
       "      <td>20.683952</td>\n",
       "    </tr>\n",
       "  </tbody>\n",
       "</table>\n",
       "</div>"
      ],
      "text/plain": [
       "                 id                 date     store_nbr   onpromotion\n",
       "count  2.851200e+04                28512  28512.000000  28512.000000\n",
       "mean   3.015144e+06  2017-08-23 12:00:00     27.500000      6.965383\n",
       "min    3.000888e+06  2017-08-16 00:00:00      1.000000      0.000000\n",
       "25%    3.008016e+06  2017-08-19 18:00:00     14.000000      0.000000\n",
       "50%    3.015144e+06  2017-08-23 12:00:00     27.500000      0.000000\n",
       "75%    3.022271e+06  2017-08-27 06:00:00     41.000000      6.000000\n",
       "max    3.029399e+06  2017-08-31 00:00:00     54.000000    646.000000\n",
       "std    8.230850e+03                  NaN     15.586057     20.683952"
      ]
     },
     "execution_count": 36,
     "metadata": {},
     "output_type": "execute_result"
    }
   ],
   "source": [
    "test_df.describe()"
   ]
  },
  {
   "cell_type": "code",
   "execution_count": 37,
   "id": "50644951",
   "metadata": {},
   "outputs": [
    {
     "data": {
      "text/plain": [
       "np.int64(0)"
      ]
     },
     "execution_count": 37,
     "metadata": {},
     "output_type": "execute_result"
    }
   ],
   "source": [
    "# check for duplicates\n",
    "test_df.duplicated().sum()"
   ]
  },
  {
   "cell_type": "code",
   "execution_count": 38,
   "id": "cfdba165",
   "metadata": {},
   "outputs": [
    {
     "name": "stdout",
     "output_type": "stream",
     "text": [
      "Missing values in stores_df:\n",
      " id             0\n",
      "date           0\n",
      "store_nbr      0\n",
      "family         0\n",
      "onpromotion    0\n",
      "dtype: int64\n"
     ]
    }
   ],
   "source": [
    "# check for missing values\n",
    "print(\"Missing values in stores_df:\\n\", test_df.isnull().sum())"
   ]
  },
  {
   "cell_type": "code",
   "execution_count": 39,
   "id": "2f071c65",
   "metadata": {},
   "outputs": [
    {
     "name": "stdout",
     "output_type": "stream",
     "text": [
      "Unique values in stores_df:\n",
      " id             28512\n",
      "date              16\n",
      "store_nbr         54\n",
      "family            33\n",
      "onpromotion      212\n",
      "dtype: int64\n"
     ]
    }
   ],
   "source": [
    "# check for number of unique values\n",
    "print(\"Unique values in stores_df:\\n\", test_df.nunique())"
   ]
  },
  {
   "cell_type": "code",
   "execution_count": 40,
   "id": "e8cc484e",
   "metadata": {},
   "outputs": [
    {
     "name": "stdout",
     "output_type": "stream",
     "text": [
      "All dates are present in the train dataset.\n"
     ]
    }
   ],
   "source": [
    "# check all dates are present\n",
    "all_dates = pd.date_range(start=test_df['date'].min(), end=test_df['date'].max())\n",
    "missing_dates = all_dates.difference(test_df['date'])\n",
    "if missing_dates.empty:\n",
    "    print(\"All dates are present in the train dataset.\")\n",
    "else:\n",
    "    print(f\"Missing dates in train dataset: {missing_dates}\")"
   ]
  }
 ],
 "metadata": {
  "kernelspec": {
   "display_name": ".venv",
   "language": "python",
   "name": "python3"
  },
  "language_info": {
   "codemirror_mode": {
    "name": "ipython",
    "version": 3
   },
   "file_extension": ".py",
   "mimetype": "text/x-python",
   "name": "python",
   "nbconvert_exporter": "python",
   "pygments_lexer": "ipython3",
   "version": "3.11.6"
  }
 },
 "nbformat": 4,
 "nbformat_minor": 5
}
